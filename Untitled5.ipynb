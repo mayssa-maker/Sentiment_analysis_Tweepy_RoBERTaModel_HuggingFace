{
 "cells": [
  {
   "cell_type": "code",
   "execution_count": 2,
   "id": "7631c488",
   "metadata": {},
   "outputs": [],
   "source": [
    "import tweepy\n",
    "import json\n",
    "import pandas as pd\n",
    "from pymongo import MongoClient,ASCENDING,TEXT"
   ]
  },
  {
   "cell_type": "code",
   "execution_count": 3,
   "id": "98a1eecf",
   "metadata": {},
   "outputs": [],
   "source": [
    "import configparser\n",
    "# read configs\n",
    "config = configparser.ConfigParser()\n",
    "config.read('config.ini')\n",
    "\n",
    "api_key = config['twitter']['api_key']\n",
    "api_key_secret = config['twitter']['api_key_secret']\n",
    "\n",
    "access_token = config['twitter']['access_token']\n",
    "access_token_secret = config['twitter']['access_token_secret']"
   ]
  },
  {
   "cell_type": "code",
   "execution_count": 4,
   "id": "68d84a78",
   "metadata": {},
   "outputs": [],
   "source": [
    "Client=MongoClient(\"mongodb://localhost:27017\")\n",
    "\n"
   ]
  },
  {
   "cell_type": "code",
   "execution_count": 5,
   "id": "ab9a1718",
   "metadata": {},
   "outputs": [
    {
     "data": {
      "text/plain": [
       "'\"# Define Stream Listener Class\\nclass TweepyListener ( tweepy.Stream):\\n    def on_status (self, status):\\n        print (status.id_str)\\n        try:\\n            tweet_collection.insert_one (status._json)\\n        except:\\n            pass\\n    def on_error (self, status_code):\\n        if status_code == 420:\\n            return False'"
      ]
     },
     "execution_count": 5,
     "metadata": {},
     "output_type": "execute_result"
    }
   ],
   "source": [
    "\"\"\"\"# Define Stream Listener Class\n",
    "class TweepyListener ( tweepy.Stream):\n",
    "    def on_status (self, status):\n",
    "        print (status.id_str)\n",
    "        try:\n",
    "            tweet_collection.insert_one (status._json)\n",
    "        except:\n",
    "            pass\n",
    "    def on_error (self, status_code):\n",
    "        if status_code == 420:\n",
    "            return False\"\"\""
   ]
  },
  {
   "cell_type": "code",
   "execution_count": 6,
   "id": "8584d20e",
   "metadata": {},
   "outputs": [
    {
     "name": "stdout",
     "output_type": "stream",
     "text": [
      "               User                                              Tweet\n",
      "0   MehranShakarami  @marcio_lipe This was a fake copyright claim, ...\n",
      "1   MehranShakarami  @Ed_FilmBooth This scared me how predictable I...\n",
      "2   MehranShakarami  The Bungie lawsuit is crazy. I hope this gets ...\n",
      "3   MehranShakarami  @YouTube @TeamYouTube I just got a fraudulent ...\n",
      "4   MehranShakarami  @MattyestMatt Today I found out that somebody ...\n",
      "5   MehranShakarami  I just got a copyright strike and removal requ...\n",
      "6   MehranShakarami     Continuous vs discrete https://t.co/1X80dYi0XO\n",
      "7   MehranShakarami  Have you heard about the recent project of Ana...\n",
      "8   MehranShakarami  @liuyangyang3021 Do you have elevated access? ...\n",
      "9   MehranShakarami  @elonmusk congrats for the new purchase. Hope ...\n",
      "10  MehranShakarami  When you finally buy your dream Mac (after 10 ...\n",
      "11  MehranShakarami  New video is out:\\nGet UNLIMITED Tweets by Pyt...\n",
      "12  MehranShakarami  @TimorOccidental Thanks a lot! I'm so happy th...\n",
      "13  MehranShakarami  Hey friends, just uploaded a new video about w...\n",
      "14  MehranShakarami  @emphisto So happy to hear that it was helpful 🙂!\n",
      "15  MehranShakarami  How to stream realtime tweet by python for beg...\n",
      "16  MehranShakarami  New video for retrieving tweets from users or ...\n",
      "17  MehranShakarami  How to get tweets by python, a short tutorial:...\n"
     ]
    }
   ],
   "source": [
    "\n",
    "# authentication\n",
    "auth = tweepy.OAuthHandler(api_key, api_key_secret)\n",
    "auth.set_access_token(access_token, access_token_secret)\n",
    "api = tweepy.API(auth)\n",
    "\n",
    "# user tweets\n",
    "users = ['MehranShakarami']\n",
    "limit=300\n",
    "for user in users:\n",
    "    tweets = tweepy.Cursor(api.user_timeline, screen_name=user, count=200, tweet_mode='extended').items(limit)\n",
    "    columns = ['User', 'Tweet']\n",
    "    data = []\n",
    "    for tweet in tweets:\n",
    "        data.append([tweet.user.screen_name, tweet.full_text])\n",
    "# tweets = api.user_timeline(screen_name=user, count=limit, tweet_mode='extended')\n",
    "\n",
    "# create DataFrame\n",
    "\n",
    "df1 = pd.DataFrame(data, columns=columns)\n",
    "\n",
    "print(df1)"
   ]
  },
  {
   "cell_type": "code",
   "execution_count": 7,
   "id": "f769ef38",
   "metadata": {},
   "outputs": [],
   "source": [
    "data=df1.to_dict(orient='records')"
   ]
  },
  {
   "cell_type": "code",
   "execution_count": 8,
   "id": "b6393119",
   "metadata": {},
   "outputs": [
    {
     "data": {
      "text/plain": [
       "[{'User': 'MehranShakarami',\n",
       "  'Tweet': \"@marcio_lipe This was a fake copyright claim, but sadly youtube doesn't verify anything before taking down the video. I have filed a counter notification, and the video should get back online in few days 🤞\"},\n",
       " {'User': 'MehranShakarami',\n",
       "  'Tweet': '@Ed_FilmBooth This scared me how predictable I was'},\n",
       " {'User': 'MehranShakarami',\n",
       "  'Tweet': 'The Bungie lawsuit is crazy. I hope this gets the attention of YT and they try to improve the CMDA takedown process.'},\n",
       " {'User': 'MehranShakarami',\n",
       "  'Tweet': '@YouTube @TeamYouTube I just got a fraudulent copyright takedown notice on my educational video. All the content is original and it’s shocking to get this removal request. The complainer doesn’t reply to my email and the video is about to be removed. Can somebody help me? https://t.co/WM1GcRaJW6'},\n",
       " {'User': 'MehranShakarami',\n",
       "  'Tweet': '@MattyestMatt Today I found out that somebody put a claim on my video, that is only me coding and explaining. It’s a shame how easily people can file these complaints and cause trouble for content creators.'},\n",
       " {'User': 'MehranShakarami',\n",
       "  'Tweet': 'I just got a copyright strike and removal request for one of my videos, and funny that I cannot do anything about it but to contact the issuer and hopefully resolve it. https://t.co/GVcDgNFAtl'},\n",
       " {'User': 'MehranShakarami',\n",
       "  'Tweet': 'Continuous vs discrete https://t.co/1X80dYi0XO'},\n",
       " {'User': 'MehranShakarami',\n",
       "  'Tweet': 'Have you heard about the recent project of Anaconda, PyScript? \\nIt makes it possible to run Python in HTML. Here’s an intro video to this project:\\nhttps://t.co/C49Z0e35zp\\n#Python #pyscript'},\n",
       " {'User': 'MehranShakarami',\n",
       "  'Tweet': '@liuyangyang3021 Do you have elevated access? If you have essential access, you cannot use API methods and Stream. The tweepy website also says this:\\nhttps://t.co/G2sulgvP51\\nYou can either apply for elevated access, or use StreamingClient in the latest update of tweepy.'},\n",
       " {'User': 'MehranShakarami',\n",
       "  'Tweet': '@elonmusk congrats for the new purchase. Hope that you also make the premium APIs for free.'},\n",
       " {'User': 'MehranShakarami',\n",
       "  'Tweet': 'When you finally buy your dream Mac (after 10 years), but still have to wait for 2 months to get it 😎 #MacStudio https://t.co/DHtpJJaxfp'},\n",
       " {'User': 'MehranShakarami',\n",
       "  'Tweet': 'New video is out:\\nGet UNLIMITED Tweets by Python Without Twitter API\\n#Python \\nhttps://t.co/1vd68NZBLR'},\n",
       " {'User': 'MehranShakarami',\n",
       "  'Tweet': \"@TimorOccidental Thanks a lot! I'm so happy that I could be helpful :-)\"},\n",
       " {'User': 'MehranShakarami',\n",
       "  'Tweet': 'Hey friends, just uploaded a new video about web scraping Amazon, would love it if you could check it out.\\nhttps://t.co/a186szoDbj\\n#python #amazon #webscraping'},\n",
       " {'User': 'MehranShakarami',\n",
       "  'Tweet': '@emphisto So happy to hear that it was helpful 🙂!'},\n",
       " {'User': 'MehranShakarami',\n",
       "  'Tweet': 'How to stream realtime tweet by python for beginners:\\nhttps://t.co/Lxw85Qd2nV #python #twitterapi #tweepy'},\n",
       " {'User': 'MehranShakarami',\n",
       "  'Tweet': 'New video for retrieving tweets from users or keywords:\\nhttps://t.co/X1BkCnHYZD\\n#python #tweepy #twitterapi'},\n",
       " {'User': 'MehranShakarami',\n",
       "  'Tweet': 'How to get tweets by python, a short tutorial:\\nhttps://t.co/vRcyaYXpgm #tweepy #python'}]"
      ]
     },
     "execution_count": 8,
     "metadata": {},
     "output_type": "execute_result"
    }
   ],
   "source": [
    "data"
   ]
  },
  {
   "cell_type": "code",
   "execution_count": 9,
   "id": "a6a2b94f",
   "metadata": {},
   "outputs": [],
   "source": [
    "db=Client['TweetAnalyze']\n",
    "cl=db['tweets']\n"
   ]
  },
  {
   "cell_type": "code",
   "execution_count": 10,
   "id": "a4e9d496",
   "metadata": {},
   "outputs": [
    {
     "data": {
      "text/plain": [
       "<pymongo.results.InsertManyResult at 0x7fdbec367880>"
      ]
     },
     "execution_count": 10,
     "metadata": {},
     "output_type": "execute_result"
    }
   ],
   "source": [
    "db.cl.insert_many(data)"
   ]
  },
  {
   "cell_type": "code",
   "execution_count": 11,
   "id": "0a40913d",
   "metadata": {},
   "outputs": [],
   "source": [
    "all_records=db.cl.find()\n",
    "\n"
   ]
  },
  {
   "cell_type": "code",
   "execution_count": 12,
   "id": "bb07493f",
   "metadata": {},
   "outputs": [
    {
     "name": "stdout",
     "output_type": "stream",
     "text": [
      "<pymongo.cursor.Cursor object at 0x7fdbec36d490>\n"
     ]
    }
   ],
   "source": [
    "print(all_records)"
   ]
  },
  {
   "cell_type": "code",
   "execution_count": 13,
   "id": "eb20bc3a",
   "metadata": {},
   "outputs": [
    {
     "name": "stdout",
     "output_type": "stream",
     "text": [
      "{'_id': ObjectId('63055c355ef36dcfe265becd'), 'User': 'MehranShakarami', 'Tweet': \"@marcio_lipe This was a fake copyright claim, but sadly youtube doesn't verify anything before taking down the video. I have filed a counter notification, and the video should get back online in few days 🤞\"}\n",
      "{'_id': ObjectId('63055c355ef36dcfe265bece'), 'User': 'MehranShakarami', 'Tweet': '@Ed_FilmBooth This scared me how predictable I was'}\n",
      "{'_id': ObjectId('63055c355ef36dcfe265becf'), 'User': 'MehranShakarami', 'Tweet': 'The Bungie lawsuit is crazy. I hope this gets the attention of YT and they try to improve the CMDA takedown process.'}\n",
      "{'_id': ObjectId('63055c355ef36dcfe265bed0'), 'User': 'MehranShakarami', 'Tweet': '@YouTube @TeamYouTube I just got a fraudulent copyright takedown notice on my educational video. All the content is original and it’s shocking to get this removal request. The complainer doesn’t reply to my email and the video is about to be removed. Can somebody help me? https://t.co/WM1GcRaJW6'}\n",
      "{'_id': ObjectId('63055c355ef36dcfe265bed1'), 'User': 'MehranShakarami', 'Tweet': '@MattyestMatt Today I found out that somebody put a claim on my video, that is only me coding and explaining. It’s a shame how easily people can file these complaints and cause trouble for content creators.'}\n",
      "{'_id': ObjectId('63055c355ef36dcfe265bed2'), 'User': 'MehranShakarami', 'Tweet': 'I just got a copyright strike and removal request for one of my videos, and funny that I cannot do anything about it but to contact the issuer and hopefully resolve it. https://t.co/GVcDgNFAtl'}\n",
      "{'_id': ObjectId('63055c355ef36dcfe265bed3'), 'User': 'MehranShakarami', 'Tweet': 'Continuous vs discrete https://t.co/1X80dYi0XO'}\n",
      "{'_id': ObjectId('63055c355ef36dcfe265bed4'), 'User': 'MehranShakarami', 'Tweet': 'Have you heard about the recent project of Anaconda, PyScript? \\nIt makes it possible to run Python in HTML. Here’s an intro video to this project:\\nhttps://t.co/C49Z0e35zp\\n#Python #pyscript'}\n",
      "{'_id': ObjectId('63055c355ef36dcfe265bed5'), 'User': 'MehranShakarami', 'Tweet': '@liuyangyang3021 Do you have elevated access? If you have essential access, you cannot use API methods and Stream. The tweepy website also says this:\\nhttps://t.co/G2sulgvP51\\nYou can either apply for elevated access, or use StreamingClient in the latest update of tweepy.'}\n",
      "{'_id': ObjectId('63055c355ef36dcfe265bed6'), 'User': 'MehranShakarami', 'Tweet': '@elonmusk congrats for the new purchase. Hope that you also make the premium APIs for free.'}\n",
      "{'_id': ObjectId('63055c355ef36dcfe265bed7'), 'User': 'MehranShakarami', 'Tweet': 'When you finally buy your dream Mac (after 10 years), but still have to wait for 2 months to get it 😎 #MacStudio https://t.co/DHtpJJaxfp'}\n",
      "{'_id': ObjectId('63055c355ef36dcfe265bed8'), 'User': 'MehranShakarami', 'Tweet': 'New video is out:\\nGet UNLIMITED Tweets by Python Without Twitter API\\n#Python \\nhttps://t.co/1vd68NZBLR'}\n",
      "{'_id': ObjectId('63055c355ef36dcfe265bed9'), 'User': 'MehranShakarami', 'Tweet': \"@TimorOccidental Thanks a lot! I'm so happy that I could be helpful :-)\"}\n",
      "{'_id': ObjectId('63055c355ef36dcfe265beda'), 'User': 'MehranShakarami', 'Tweet': 'Hey friends, just uploaded a new video about web scraping Amazon, would love it if you could check it out.\\nhttps://t.co/a186szoDbj\\n#python #amazon #webscraping'}\n",
      "{'_id': ObjectId('63055c355ef36dcfe265bedb'), 'User': 'MehranShakarami', 'Tweet': '@emphisto So happy to hear that it was helpful 🙂!'}\n",
      "{'_id': ObjectId('63055c355ef36dcfe265bedc'), 'User': 'MehranShakarami', 'Tweet': 'How to stream realtime tweet by python for beginners:\\nhttps://t.co/Lxw85Qd2nV #python #twitterapi #tweepy'}\n",
      "{'_id': ObjectId('63055c355ef36dcfe265bedd'), 'User': 'MehranShakarami', 'Tweet': 'New video for retrieving tweets from users or keywords:\\nhttps://t.co/X1BkCnHYZD\\n#python #tweepy #twitterapi'}\n",
      "{'_id': ObjectId('63055c355ef36dcfe265bede'), 'User': 'MehranShakarami', 'Tweet': 'How to get tweets by python, a short tutorial:\\nhttps://t.co/vRcyaYXpgm #tweepy #python'}\n"
     ]
    }
   ],
   "source": [
    "for row in all_records:\n",
    "    print(row)"
   ]
  },
  {
   "cell_type": "code",
   "execution_count": 14,
   "id": "3444489b",
   "metadata": {},
   "outputs": [],
   "source": [
    "import numpy as np\n",
    "import re\n",
    "import nltk\n",
    "stopwords = nltk.corpus.stopwords.words('english')\n",
    "\n",
    "def clean_tweet(tweet):\n",
    "    if type(tweet) == np.float:\n",
    "        return \"\"\n",
    "    temp = tweet.lower()\n",
    "    temp = re.sub(\"'\", \"\", temp) # to avoid removing contractions in english\n",
    "    temp = re.sub(\"@[A-Za-z0-9_]+\",\"\", temp)\n",
    "    temp = re.sub(\"#[A-Za-z0-9_]+\",\"\", temp)\n",
    "    temp = re.sub(r'http\\S+', '', temp)\n",
    "    temp = re.sub('[()!?]', ' ', temp)\n",
    "    temp = re.sub('\\[.*?\\]',' ', temp)\n",
    "    temp = re.sub(\"[^a-z0-9]\",\" \", temp)\n",
    "    temp = temp.split()\n",
    "    temp = [w for w in temp if not w in stopwords]\n",
    "    temp = \" \".join(word for word in temp)\n",
    "    return temp"
   ]
  },
  {
   "cell_type": "code",
   "execution_count": 15,
   "id": "eabc3688",
   "metadata": {},
   "outputs": [],
   "source": [
    "for row in all_records:\n",
    "    row=clean_tweet(row)\n",
    "  "
   ]
  },
  {
   "cell_type": "code",
   "execution_count": 16,
   "id": "cfb90086",
   "metadata": {},
   "outputs": [
    {
     "data": {
      "text/plain": [
       "[{'_id': ObjectId('63055c355ef36dcfe265becd'),\n",
       "  'User': 'MehranShakarami',\n",
       "  'Tweet': \"@marcio_lipe This was a fake copyright claim, but sadly youtube doesn't verify anything before taking down the video. I have filed a counter notification, and the video should get back online in few days 🤞\"},\n",
       " {'_id': ObjectId('63055c355ef36dcfe265bece'),\n",
       "  'User': 'MehranShakarami',\n",
       "  'Tweet': '@Ed_FilmBooth This scared me how predictable I was'},\n",
       " {'_id': ObjectId('63055c355ef36dcfe265becf'),\n",
       "  'User': 'MehranShakarami',\n",
       "  'Tweet': 'The Bungie lawsuit is crazy. I hope this gets the attention of YT and they try to improve the CMDA takedown process.'},\n",
       " {'_id': ObjectId('63055c355ef36dcfe265bed0'),\n",
       "  'User': 'MehranShakarami',\n",
       "  'Tweet': '@YouTube @TeamYouTube I just got a fraudulent copyright takedown notice on my educational video. All the content is original and it’s shocking to get this removal request. The complainer doesn’t reply to my email and the video is about to be removed. Can somebody help me? https://t.co/WM1GcRaJW6'},\n",
       " {'_id': ObjectId('63055c355ef36dcfe265bed1'),\n",
       "  'User': 'MehranShakarami',\n",
       "  'Tweet': '@MattyestMatt Today I found out that somebody put a claim on my video, that is only me coding and explaining. It’s a shame how easily people can file these complaints and cause trouble for content creators.'},\n",
       " {'_id': ObjectId('63055c355ef36dcfe265bed2'),\n",
       "  'User': 'MehranShakarami',\n",
       "  'Tweet': 'I just got a copyright strike and removal request for one of my videos, and funny that I cannot do anything about it but to contact the issuer and hopefully resolve it. https://t.co/GVcDgNFAtl'},\n",
       " {'_id': ObjectId('63055c355ef36dcfe265bed3'),\n",
       "  'User': 'MehranShakarami',\n",
       "  'Tweet': 'Continuous vs discrete https://t.co/1X80dYi0XO'},\n",
       " {'_id': ObjectId('63055c355ef36dcfe265bed4'),\n",
       "  'User': 'MehranShakarami',\n",
       "  'Tweet': 'Have you heard about the recent project of Anaconda, PyScript? \\nIt makes it possible to run Python in HTML. Here’s an intro video to this project:\\nhttps://t.co/C49Z0e35zp\\n#Python #pyscript'},\n",
       " {'_id': ObjectId('63055c355ef36dcfe265bed5'),\n",
       "  'User': 'MehranShakarami',\n",
       "  'Tweet': '@liuyangyang3021 Do you have elevated access? If you have essential access, you cannot use API methods and Stream. The tweepy website also says this:\\nhttps://t.co/G2sulgvP51\\nYou can either apply for elevated access, or use StreamingClient in the latest update of tweepy.'},\n",
       " {'_id': ObjectId('63055c355ef36dcfe265bed6'),\n",
       "  'User': 'MehranShakarami',\n",
       "  'Tweet': '@elonmusk congrats for the new purchase. Hope that you also make the premium APIs for free.'},\n",
       " {'_id': ObjectId('63055c355ef36dcfe265bed7'),\n",
       "  'User': 'MehranShakarami',\n",
       "  'Tweet': 'When you finally buy your dream Mac (after 10 years), but still have to wait for 2 months to get it 😎 #MacStudio https://t.co/DHtpJJaxfp'},\n",
       " {'_id': ObjectId('63055c355ef36dcfe265bed8'),\n",
       "  'User': 'MehranShakarami',\n",
       "  'Tweet': 'New video is out:\\nGet UNLIMITED Tweets by Python Without Twitter API\\n#Python \\nhttps://t.co/1vd68NZBLR'},\n",
       " {'_id': ObjectId('63055c355ef36dcfe265bed9'),\n",
       "  'User': 'MehranShakarami',\n",
       "  'Tweet': \"@TimorOccidental Thanks a lot! I'm so happy that I could be helpful :-)\"},\n",
       " {'_id': ObjectId('63055c355ef36dcfe265beda'),\n",
       "  'User': 'MehranShakarami',\n",
       "  'Tweet': 'Hey friends, just uploaded a new video about web scraping Amazon, would love it if you could check it out.\\nhttps://t.co/a186szoDbj\\n#python #amazon #webscraping'},\n",
       " {'_id': ObjectId('63055c355ef36dcfe265bedb'),\n",
       "  'User': 'MehranShakarami',\n",
       "  'Tweet': '@emphisto So happy to hear that it was helpful 🙂!'},\n",
       " {'_id': ObjectId('63055c355ef36dcfe265bedc'),\n",
       "  'User': 'MehranShakarami',\n",
       "  'Tweet': 'How to stream realtime tweet by python for beginners:\\nhttps://t.co/Lxw85Qd2nV #python #twitterapi #tweepy'},\n",
       " {'_id': ObjectId('63055c355ef36dcfe265bedd'),\n",
       "  'User': 'MehranShakarami',\n",
       "  'Tweet': 'New video for retrieving tweets from users or keywords:\\nhttps://t.co/X1BkCnHYZD\\n#python #tweepy #twitterapi'},\n",
       " {'_id': ObjectId('63055c355ef36dcfe265bede'),\n",
       "  'User': 'MehranShakarami',\n",
       "  'Tweet': 'How to get tweets by python, a short tutorial:\\nhttps://t.co/vRcyaYXpgm #tweepy #python'}]"
      ]
     },
     "execution_count": 16,
     "metadata": {},
     "output_type": "execute_result"
    }
   ],
   "source": [
    "\n",
    "documents = list(db.cl.find())\n",
    "documents"
   ]
  },
  {
   "cell_type": "code",
   "execution_count": 17,
   "id": "a3e61a62",
   "metadata": {},
   "outputs": [
    {
     "data": {
      "text/html": [
       "<div>\n",
       "<style scoped>\n",
       "    .dataframe tbody tr th:only-of-type {\n",
       "        vertical-align: middle;\n",
       "    }\n",
       "\n",
       "    .dataframe tbody tr th {\n",
       "        vertical-align: top;\n",
       "    }\n",
       "\n",
       "    .dataframe thead th {\n",
       "        text-align: right;\n",
       "    }\n",
       "</style>\n",
       "<table border=\"1\" class=\"dataframe\">\n",
       "  <thead>\n",
       "    <tr style=\"text-align: right;\">\n",
       "      <th></th>\n",
       "      <th>_id</th>\n",
       "      <th>User</th>\n",
       "      <th>Tweet</th>\n",
       "    </tr>\n",
       "  </thead>\n",
       "  <tbody>\n",
       "    <tr>\n",
       "      <th>0</th>\n",
       "      <td>63055c355ef36dcfe265becd</td>\n",
       "      <td>MehranShakarami</td>\n",
       "      <td>@marcio_lipe This was a fake copyright claim, ...</td>\n",
       "    </tr>\n",
       "    <tr>\n",
       "      <th>1</th>\n",
       "      <td>63055c355ef36dcfe265bece</td>\n",
       "      <td>MehranShakarami</td>\n",
       "      <td>@Ed_FilmBooth This scared me how predictable I...</td>\n",
       "    </tr>\n",
       "    <tr>\n",
       "      <th>2</th>\n",
       "      <td>63055c355ef36dcfe265becf</td>\n",
       "      <td>MehranShakarami</td>\n",
       "      <td>The Bungie lawsuit is crazy. I hope this gets ...</td>\n",
       "    </tr>\n",
       "    <tr>\n",
       "      <th>3</th>\n",
       "      <td>63055c355ef36dcfe265bed0</td>\n",
       "      <td>MehranShakarami</td>\n",
       "      <td>@YouTube @TeamYouTube I just got a fraudulent ...</td>\n",
       "    </tr>\n",
       "    <tr>\n",
       "      <th>4</th>\n",
       "      <td>63055c355ef36dcfe265bed1</td>\n",
       "      <td>MehranShakarami</td>\n",
       "      <td>@MattyestMatt Today I found out that somebody ...</td>\n",
       "    </tr>\n",
       "    <tr>\n",
       "      <th>5</th>\n",
       "      <td>63055c355ef36dcfe265bed2</td>\n",
       "      <td>MehranShakarami</td>\n",
       "      <td>I just got a copyright strike and removal requ...</td>\n",
       "    </tr>\n",
       "    <tr>\n",
       "      <th>6</th>\n",
       "      <td>63055c355ef36dcfe265bed3</td>\n",
       "      <td>MehranShakarami</td>\n",
       "      <td>Continuous vs discrete https://t.co/1X80dYi0XO</td>\n",
       "    </tr>\n",
       "    <tr>\n",
       "      <th>7</th>\n",
       "      <td>63055c355ef36dcfe265bed4</td>\n",
       "      <td>MehranShakarami</td>\n",
       "      <td>Have you heard about the recent project of Ana...</td>\n",
       "    </tr>\n",
       "    <tr>\n",
       "      <th>8</th>\n",
       "      <td>63055c355ef36dcfe265bed5</td>\n",
       "      <td>MehranShakarami</td>\n",
       "      <td>@liuyangyang3021 Do you have elevated access? ...</td>\n",
       "    </tr>\n",
       "    <tr>\n",
       "      <th>9</th>\n",
       "      <td>63055c355ef36dcfe265bed6</td>\n",
       "      <td>MehranShakarami</td>\n",
       "      <td>@elonmusk congrats for the new purchase. Hope ...</td>\n",
       "    </tr>\n",
       "    <tr>\n",
       "      <th>10</th>\n",
       "      <td>63055c355ef36dcfe265bed7</td>\n",
       "      <td>MehranShakarami</td>\n",
       "      <td>When you finally buy your dream Mac (after 10 ...</td>\n",
       "    </tr>\n",
       "    <tr>\n",
       "      <th>11</th>\n",
       "      <td>63055c355ef36dcfe265bed8</td>\n",
       "      <td>MehranShakarami</td>\n",
       "      <td>New video is out:\\nGet UNLIMITED Tweets by Pyt...</td>\n",
       "    </tr>\n",
       "    <tr>\n",
       "      <th>12</th>\n",
       "      <td>63055c355ef36dcfe265bed9</td>\n",
       "      <td>MehranShakarami</td>\n",
       "      <td>@TimorOccidental Thanks a lot! I'm so happy th...</td>\n",
       "    </tr>\n",
       "    <tr>\n",
       "      <th>13</th>\n",
       "      <td>63055c355ef36dcfe265beda</td>\n",
       "      <td>MehranShakarami</td>\n",
       "      <td>Hey friends, just uploaded a new video about w...</td>\n",
       "    </tr>\n",
       "    <tr>\n",
       "      <th>14</th>\n",
       "      <td>63055c355ef36dcfe265bedb</td>\n",
       "      <td>MehranShakarami</td>\n",
       "      <td>@emphisto So happy to hear that it was helpful 🙂!</td>\n",
       "    </tr>\n",
       "    <tr>\n",
       "      <th>15</th>\n",
       "      <td>63055c355ef36dcfe265bedc</td>\n",
       "      <td>MehranShakarami</td>\n",
       "      <td>How to stream realtime tweet by python for beg...</td>\n",
       "    </tr>\n",
       "    <tr>\n",
       "      <th>16</th>\n",
       "      <td>63055c355ef36dcfe265bedd</td>\n",
       "      <td>MehranShakarami</td>\n",
       "      <td>New video for retrieving tweets from users or ...</td>\n",
       "    </tr>\n",
       "    <tr>\n",
       "      <th>17</th>\n",
       "      <td>63055c355ef36dcfe265bede</td>\n",
       "      <td>MehranShakarami</td>\n",
       "      <td>How to get tweets by python, a short tutorial:...</td>\n",
       "    </tr>\n",
       "  </tbody>\n",
       "</table>\n",
       "</div>"
      ],
      "text/plain": [
       "                         _id             User  \\\n",
       "0   63055c355ef36dcfe265becd  MehranShakarami   \n",
       "1   63055c355ef36dcfe265bece  MehranShakarami   \n",
       "2   63055c355ef36dcfe265becf  MehranShakarami   \n",
       "3   63055c355ef36dcfe265bed0  MehranShakarami   \n",
       "4   63055c355ef36dcfe265bed1  MehranShakarami   \n",
       "5   63055c355ef36dcfe265bed2  MehranShakarami   \n",
       "6   63055c355ef36dcfe265bed3  MehranShakarami   \n",
       "7   63055c355ef36dcfe265bed4  MehranShakarami   \n",
       "8   63055c355ef36dcfe265bed5  MehranShakarami   \n",
       "9   63055c355ef36dcfe265bed6  MehranShakarami   \n",
       "10  63055c355ef36dcfe265bed7  MehranShakarami   \n",
       "11  63055c355ef36dcfe265bed8  MehranShakarami   \n",
       "12  63055c355ef36dcfe265bed9  MehranShakarami   \n",
       "13  63055c355ef36dcfe265beda  MehranShakarami   \n",
       "14  63055c355ef36dcfe265bedb  MehranShakarami   \n",
       "15  63055c355ef36dcfe265bedc  MehranShakarami   \n",
       "16  63055c355ef36dcfe265bedd  MehranShakarami   \n",
       "17  63055c355ef36dcfe265bede  MehranShakarami   \n",
       "\n",
       "                                                Tweet  \n",
       "0   @marcio_lipe This was a fake copyright claim, ...  \n",
       "1   @Ed_FilmBooth This scared me how predictable I...  \n",
       "2   The Bungie lawsuit is crazy. I hope this gets ...  \n",
       "3   @YouTube @TeamYouTube I just got a fraudulent ...  \n",
       "4   @MattyestMatt Today I found out that somebody ...  \n",
       "5   I just got a copyright strike and removal requ...  \n",
       "6      Continuous vs discrete https://t.co/1X80dYi0XO  \n",
       "7   Have you heard about the recent project of Ana...  \n",
       "8   @liuyangyang3021 Do you have elevated access? ...  \n",
       "9   @elonmusk congrats for the new purchase. Hope ...  \n",
       "10  When you finally buy your dream Mac (after 10 ...  \n",
       "11  New video is out:\\nGet UNLIMITED Tweets by Pyt...  \n",
       "12  @TimorOccidental Thanks a lot! I'm so happy th...  \n",
       "13  Hey friends, just uploaded a new video about w...  \n",
       "14  @emphisto So happy to hear that it was helpful 🙂!  \n",
       "15  How to stream realtime tweet by python for beg...  \n",
       "16  New video for retrieving tweets from users or ...  \n",
       "17  How to get tweets by python, a short tutorial:...  "
      ]
     },
     "execution_count": 17,
     "metadata": {},
     "output_type": "execute_result"
    }
   ],
   "source": [
    "df = pd.DataFrame(documents, columns = ['_id','User','Tweet'])\n",
    "df"
   ]
  },
  {
   "cell_type": "code",
   "execution_count": 18,
   "id": "e420b214",
   "metadata": {},
   "outputs": [
    {
     "name": "stdout",
     "output_type": "stream",
     "text": [
      "[\"@marcio_lipe This was a fake copyright claim, but sadly youtube doesn't verify anything before taking down the video. I have filed a counter notification, and the video should get back online in few days 🤞\", '@Ed_FilmBooth This scared me how predictable I was', 'The Bungie lawsuit is crazy. I hope this gets the attention of YT and they try to improve the CMDA takedown process.', '@YouTube @TeamYouTube I just got a fraudulent copyright takedown notice on my educational video. All the content is original and it’s shocking to get this removal request. The complainer doesn’t reply to my email and the video is about to be removed. Can somebody help me? https://t.co/WM1GcRaJW6', '@MattyestMatt Today I found out that somebody put a claim on my video, that is only me coding and explaining. It’s a shame how easily people can file these complaints and cause trouble for content creators.', 'I just got a copyright strike and removal request for one of my videos, and funny that I cannot do anything about it but to contact the issuer and hopefully resolve it. https://t.co/GVcDgNFAtl', 'Continuous vs discrete https://t.co/1X80dYi0XO', 'Have you heard about the recent project of Anaconda, PyScript? \\nIt makes it possible to run Python in HTML. Here’s an intro video to this project:\\nhttps://t.co/C49Z0e35zp\\n#Python #pyscript', '@liuyangyang3021 Do you have elevated access? If you have essential access, you cannot use API methods and Stream. The tweepy website also says this:\\nhttps://t.co/G2sulgvP51\\nYou can either apply for elevated access, or use StreamingClient in the latest update of tweepy.', '@elonmusk congrats for the new purchase. Hope that you also make the premium APIs for free.', 'When you finally buy your dream Mac (after 10 years), but still have to wait for 2 months to get it 😎 #MacStudio https://t.co/DHtpJJaxfp', 'New video is out:\\nGet UNLIMITED Tweets by Python Without Twitter API\\n#Python \\nhttps://t.co/1vd68NZBLR', \"@TimorOccidental Thanks a lot! I'm so happy that I could be helpful :-)\", 'Hey friends, just uploaded a new video about web scraping Amazon, would love it if you could check it out.\\nhttps://t.co/a186szoDbj\\n#python #amazon #webscraping', '@emphisto So happy to hear that it was helpful 🙂!', 'How to stream realtime tweet by python for beginners:\\nhttps://t.co/Lxw85Qd2nV #python #twitterapi #tweepy', 'New video for retrieving tweets from users or keywords:\\nhttps://t.co/X1BkCnHYZD\\n#python #tweepy #twitterapi', 'How to get tweets by python, a short tutorial:\\nhttps://t.co/vRcyaYXpgm #tweepy #python']\n"
     ]
    }
   ],
   "source": [
    "Tweets=list()\n",
    "Tweets=[row['Tweet'] for row in documents]\n",
    "print(Tweets)"
   ]
  },
  {
   "cell_type": "code",
   "execution_count": 17,
   "id": "fbae4763",
   "metadata": {},
   "outputs": [
    {
     "name": "stdout",
     "output_type": "stream",
     "text": [
      "Collecting package metadata (current_repodata.json): done\n",
      "Solving environment: - \n",
      "Warning: >10 possible package resolutions (only showing differing packages):\n",
      "  - anaconda/linux-64::ca-certificates-2022.3.29-h06a4308_1, anaconda/linux-64::certifi-2021.10.8-py39h06a4308_2, anaconda/linux-64::conda-4.13.0-py39h06a4308_0, anaconda/linux-64::openssl-1.1.1n-h7f8727e_0\n",
      "  - anaconda/linux-64::certifi-2021.10.8-py39h06a4308_2, anaconda/linux-64::conda-4.13.0-py39h06a4308_0, anaconda/linux-64::openssl-1.1.1n-h7f8727e_0, defaults/linux-64::ca-certificates-2022.3.29-h06a4308_1\n",
      "  - anaconda/linux-64::ca-certificates-2022.3.29-h06a4308_1, anaconda/linux-64::conda-4.13.0-py39h06a4308_0, anaconda/linux-64::openssl-1.1.1n-h7f8727e_0, defaults/linux-64::certifi-2021.10.8-py39h06a4308_2\n",
      "  - anaconda/linux-64::conda-4.13.0-py39h06a4308_0, anaconda/linux-64::openssl-1.1.1n-h7f8727e_0, defaults/linux-64::ca-certificates-2022.3.29-h06a4308_1, defaults/linux-64::certifi-2021.10.8-py39h06a4308_2\n",
      "  - anaconda/linux-64::ca-certificates-2022.3.29-h06a4308_1, anaconda/linux-64::openssl-1.1.1n-h7f8727e_0, defaults/linux-64::certifi-2021.10.8-py39h06a4308_2, defaults/linux-64::conda-4.13.0-py39h06a4308_0\n",
      "  - anaconda/linux-64::openssl-1.1.1n-h7f8727e_0, defaults/linux-64::ca-certificates-2022.3.29-h06a4308_1, defaults/linux-64::certifi-2021.10.8-py39h06a4308_2, defaults/linux-64::conda-4.13.0-py39h06a4308_0\n",
      "  - anaconda/linux-64::ca-certificates-2022.3.29-h06a4308_1, anaconda/linux-64::certifi-2021.10.8-py39h06a4308_2, anaconda/linux-64::openssl-1.1.1n-h7f8727e_0, defaults/linux-64::conda-4.13.0-py39h06a4308_0\n",
      "  - anaconda/linux-64::certifi-2021.10.8-py39h06a4308_2, anaconda/linux-64::openssl-1.1.1n-h7f8727e_0, defaults/linux-64::ca-certificates-2022.3.29-h06a4308_1, defaults/linux-64::conda-4.13.0-py39h06a4308_0\n",
      "  - anaconda/linux-64::ca-certificates-2022.3.29-h06a4308_1, anaconda/linux-64::certifi-2021.10.8-py39h06a4308_2, defaults/linux-64::conda-4.13.0-py39h06a4308_0, defaults/linux-64::openssl-1.1.1n-h7f8727e_0\n",
      "  - anaconda/linux-64::ca-certificates-2022.3.29-h06a4308_1, anaconda/linux-64::certifi-2021.10.8-py39h06a4308_2, anaconda/linux-64::conda-4.13.0-py39h06a4308_0, defaults/linux-64::openssl-1.1.1n-h7f8727e_0\n",
      "  ... and othedone\n",
      "\n",
      "# All requested packages already installed.\n",
      "\n",
      "\n",
      "Note: you may need to restart the kernel to use updated packages.\n"
     ]
    }
   ],
   "source": [
    "conda install pytorch torchvision -c pytorch"
   ]
  },
  {
   "cell_type": "code",
   "execution_count": 19,
   "id": "d399b9f5",
   "metadata": {},
   "outputs": [],
   "source": [
    "import transformers\n",
    "from transformers import AutoTokenizer\n",
    "from transformers import AutoModelForSequenceClassification\n",
    "from scipy.special import softmax"
   ]
  },
  {
   "cell_type": "code",
   "execution_count": 20,
   "id": "8dc41428",
   "metadata": {},
   "outputs": [],
   "source": [
    "RoBERTa= f\"cardiffnlp/twitter-roberta-base-sentiment-latest\""
   ]
  },
  {
   "cell_type": "code",
   "execution_count": 21,
   "id": "b9ed17d0",
   "metadata": {},
   "outputs": [
    {
     "name": "stderr",
     "output_type": "stream",
     "text": [
      "Some weights of the model checkpoint at cardiffnlp/twitter-roberta-base-sentiment-latest were not used when initializing RobertaForSequenceClassification: ['roberta.pooler.dense.weight', 'roberta.pooler.dense.bias']\n",
      "- This IS expected if you are initializing RobertaForSequenceClassification from the checkpoint of a model trained on another task or with another architecture (e.g. initializing a BertForSequenceClassification model from a BertForPreTraining model).\n",
      "- This IS NOT expected if you are initializing RobertaForSequenceClassification from the checkpoint of a model that you expect to be exactly identical (initializing a BertForSequenceClassification model from a BertForSequenceClassification model).\n"
     ]
    }
   ],
   "source": [
    "tokenizer = AutoTokenizer.from_pretrained(RoBERTa)\n",
    "model = AutoModelForSequenceClassification.from_pretrained(RoBERTa)"
   ]
  },
  {
   "cell_type": "code",
   "execution_count": 22,
   "id": "b19dae70",
   "metadata": {},
   "outputs": [
    {
     "name": "stderr",
     "output_type": "stream",
     "text": [
      "Some weights of the model checkpoint at cardiffnlp/twitter-roberta-base-sentiment-latest were not used when initializing RobertaForSequenceClassification: ['roberta.pooler.dense.weight', 'roberta.pooler.dense.bias']\n",
      "- This IS expected if you are initializing RobertaForSequenceClassification from the checkpoint of a model trained on another task or with another architecture (e.g. initializing a BertForSequenceClassification model from a BertForPreTraining model).\n",
      "- This IS NOT expected if you are initializing RobertaForSequenceClassification from the checkpoint of a model that you expect to be exactly identical (initializing a BertForSequenceClassification model from a BertForSequenceClassification model).\n"
     ]
    }
   ],
   "source": [
    "from transformers import pipeline\n",
    "classifier=pipeline(\"sentiment-analysis\",model=RoBERTa,tokenizer=tokenizer)"
   ]
  },
  {
   "cell_type": "code",
   "execution_count": 23,
   "id": "83daa82c",
   "metadata": {},
   "outputs": [],
   "source": [
    "results=classifier(df['Tweet'].to_list())"
   ]
  },
  {
   "cell_type": "code",
   "execution_count": 24,
   "id": "db9a42e3",
   "metadata": {},
   "outputs": [
    {
     "name": "stdout",
     "output_type": "stream",
     "text": [
      "{'label': 'Negative', 'score': 0.712609589099884}\n",
      "{'label': 'Negative', 'score': 0.8113563060760498}\n",
      "{'label': 'Negative', 'score': 0.4595453143119812}\n",
      "{'label': 'Negative', 'score': 0.8951922059059143}\n",
      "{'label': 'Negative', 'score': 0.9164142608642578}\n",
      "{'label': 'Negative', 'score': 0.8505436778068542}\n",
      "{'label': 'Neutral', 'score': 0.8693071603775024}\n",
      "{'label': 'Positive', 'score': 0.7728056907653809}\n",
      "{'label': 'Neutral', 'score': 0.6380978226661682}\n",
      "{'label': 'Positive', 'score': 0.9774083495140076}\n",
      "{'label': 'Positive', 'score': 0.9298089742660522}\n",
      "{'label': 'Neutral', 'score': 0.7753016352653503}\n",
      "{'label': 'Positive', 'score': 0.9884557723999023}\n",
      "{'label': 'Positive', 'score': 0.9622519016265869}\n",
      "{'label': 'Positive', 'score': 0.9882391691207886}\n",
      "{'label': 'Neutral', 'score': 0.7569103837013245}\n",
      "{'label': 'Neutral', 'score': 0.7994017004966736}\n",
      "{'label': 'Neutral', 'score': 0.7708052396774292}\n"
     ]
    }
   ],
   "source": [
    "for result in results:\n",
    "    print(result)"
   ]
  },
  {
   "cell_type": "code",
   "execution_count": null,
   "id": "964c5488",
   "metadata": {},
   "outputs": [],
   "source": []
  }
 ],
 "metadata": {
  "kernelspec": {
   "display_name": "Python 3 (ipykernel)",
   "language": "python",
   "name": "python3"
  },
  "language_info": {
   "codemirror_mode": {
    "name": "ipython",
    "version": 3
   },
   "file_extension": ".py",
   "mimetype": "text/x-python",
   "name": "python",
   "nbconvert_exporter": "python",
   "pygments_lexer": "ipython3",
   "version": "3.9.12"
  }
 },
 "nbformat": 4,
 "nbformat_minor": 5
}
